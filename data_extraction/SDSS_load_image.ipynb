{
 "cells": [
  {
   "cell_type": "code",
   "execution_count": 1,
   "metadata": {},
   "outputs": [],
   "source": [
    "import sys\n",
    "import os\n",
    "import subprocess\n",
    "from math import *\n",
    "import numpy as np\n",
    "from datetime import *\n",
    "from pylab import *\n",
    "import matplotlib as mpl\n",
    "from matplotlib.widgets import Slider, Button, RadioButtons\n",
    "import matplotlib.pyplot as plt\n",
    "from astropy.table import Table, Column \n",
    "from mpl_toolkits.axes_grid1 import make_axes_locatable\n",
    "import matplotlib.patches as patches\n",
    "import scipy.misc as scimisc\n",
    "import random\n",
    "import requests\n",
    "from io import BytesIO\n",
    "from PIL import Image"
   ]
  },
  {
   "cell_type": "code",
   "execution_count": 2,
   "metadata": {},
   "outputs": [],
   "source": [
    "RA  = 0.8121   # deg\n",
    "Dec = 16.1456  # deg\n",
    "fov = 10        # arcmin\n",
    "angle = 43.\n",
    "scale = 1.\n",
    "\n",
    "# var d = 1.;\n",
    "# if (unit=='arcmin') d=60.\n",
    "# if (unit=='degree') d=3600.\n",
    "\n",
    "npix = int(fov*60 / 0.250)\n",
    "\n",
    "RA   = str(RA)\n",
    "Dec  = str(Dec)\n",
    "npix = str(npix)\n",
    "\n",
    "url = \"http://skyserver.sdss.org/dr12/SkyserverWS/ImgCutout/getjpeg?TaskName=Skyserver.Explore.Image&ra=\"+RA+\"&dec=\"+Dec+\"&scale=0.25&width=\"+npix+\"&height=\"+npix;\n",
    "\n",
    "\n",
    "response = requests.get(url)\n",
    "img = Image.open(BytesIO(response.content))\n"
   ]
  },
  {
   "cell_type": "code",
   "execution_count": 3,
   "metadata": {},
   "outputs": [],
   "source": [
    "def converIMAGE(img, angle=0., scale=1., size=64):\n",
    "    \n",
    "    if scale<1.:\n",
    "        scale=1\n",
    "\n",
    "\n",
    "    img_rot = scimisc.imrotate(img, -angle, interp='bilinear')\n",
    "\n",
    "    img_rot = np.asarray(img_rot)\n",
    "\n",
    "    N = img_rot.shape\n",
    "    d = N[0]\n",
    "    p =  int(d/scale)\n",
    "    d1 = d/2-p/2\n",
    "    d2 = d1 + p\n",
    "\n",
    "    img_cut = img_rot[d1:d2, d1:d2, :]\n",
    "\n",
    "    img = Image.fromarray(img_cut, 'RGB').resize((size,size))\n",
    "\n",
    "\n",
    "#     img.save(outName, \"JPEG\")\n",
    "    \n",
    "    return img"
   ]
  },
  {
   "cell_type": "code",
   "execution_count": 4,
   "metadata": {
    "scrolled": true
   },
   "outputs": [
    {
     "name": "stderr",
     "output_type": "stream",
     "text": [
      "/home/ehsan/anaconda2/lib/python2.7/site-packages/ipykernel_launcher.py:7: DeprecationWarning: `imrotate` is deprecated!\n",
      "`imrotate` is deprecated in SciPy 1.0.0, and will be removed in 1.2.0.\n",
      "Use ``skimage.transform.rotate`` instead.\n",
      "  import sys\n"
     ]
    },
    {
     "data": {
      "text/plain": [
       "(1, 64, 64, 3)"
      ]
     },
     "execution_count": 4,
     "metadata": {},
     "output_type": "execute_result"
    },
    {
     "data": {
      "image/png": "[encoded data removed]",
      "text/plain": [
       "<Figure size 432x288 with 1 Axes>"
      ]
     },
     "metadata": {
      "needs_background": "light"
     },
     "output_type": "display_data"
    }
   ],
   "source": [
    "img_c = converIMAGE(img, angle=angle, scale=scale, size=64)\n",
    "img_c.save('demo.jpg', \"JPEG\")\n",
    "\n",
    "plt.imshow(img_c)\n",
    "\n",
    "img_arr = np.asarray(img_c)\n",
    "\n",
    "nx,ny,channels = img_arr.shape\n",
    "\n",
    "img_arr = img_arr.reshape(1,nx,ny,channels)\n",
    "\n",
    "img_arr.shape"
   ]
  },
  {
   "cell_type": "code",
   "execution_count": 15,
   "metadata": {},
   "outputs": [],
   "source": [
    "import tensorflow as tf\n",
    "from tensorflow.keras.models import  load_model\n",
    "\n",
    "img_c = Image.open('demo.jpg')      \n",
    "img_arr = np.asarray(img_c) \n",
    "nx,ny,channels = img_arr.shape \n",
    "img_arr = img_arr.reshape(1,nx,ny,channels) \n",
    "img_arr.shape  \n",
    "img_arrr = tf.cast(img_arr, tf.float32)\n",
    "img_arrr = tf.cast(img_arr, tf.float32) \n",
    "\n",
    "\n",
    "\n",
    "regression = load_model(\"CNN_inc_VGG6_regr_seed100.h5\", compile=False)\n",
    "classify = load_model(\"CNN_inc_VGG6_classify_seed100.h5\", compile=False)\n",
    "binary = load_model(\"CNN_inc_VGG6_binary.h5\", compile=False)\n",
    "\n"
   ]
  },
  {
   "cell_type": "code",
   "execution_count": 16,
   "metadata": {},
   "outputs": [],
   "source": [
    "inc_pr = regression.predict(img_arr)\n",
    "inc_pc = classify.predict(img_arr)\n",
    "inc_pc = np.argmax(inc_pc, axis=1) + 51\n",
    "flag = binary.predict(img_arr)"
   ]
  },
  {
   "cell_type": "code",
   "execution_count": 17,
   "metadata": {
    "scrolled": true
   },
   "outputs": [
    {
     "name": "stdout",
     "output_type": "stream",
     "text": [
      "81.0 87 [0.23492117 0.76507884]\n"
     ]
    }
   ],
   "source": [
    "print np.round(inc_pr[0][0]), inc_pc[0], flag[0]"
   ]
  },
  {
   "cell_type": "markdown",
   "metadata": {},
   "source": [
    "## on ARP"
   ]
  },
  {
   "cell_type": "code",
   "execution_count": null,
   "metadata": {},
   "outputs": [],
   "source": [
    "import sys\n",
    "import os\n",
    "import subprocess\n",
    "from math import *\n",
    "import numpy as np\n",
    "from datetime import *\n",
    "from pylab import *\n",
    "import matplotlib as mpl\n",
    "from matplotlib.widgets import Slider, Button, RadioButtons\n",
    "import matplotlib.pyplot as plt\n",
    "from astropy.table import Table, Column \n",
    "from mpl_toolkits.axes_grid1 import make_axes_locatable\n",
    "import matplotlib.patches as patches\n",
    "import scipy.misc as scimisc\n",
    "import random\n",
    "import requests\n",
    "from io import BytesIO\n",
    "from PIL import Image\n",
    "\n",
    "import tensorflow as tf\n",
    "from tensorflow.keras.models import  load_model\n",
    "\n",
    "regression = load_model(\"CNN_inc_VGG6_regr_seed100.h5\")\n",
    "classify = load_model(\"CNN_inc_VGG6_classify_seed100.h5\")\n",
    "binary = load_model(\"CNN_inc_VGG6_binary.h5\")\n",
    "\n",
    "img_c = Image.open('demo.jpg')      \n",
    "img_arr = np.asarray(img_c) \n",
    "nx,ny,channels = img_arr.shape \n",
    "img_arr = img_arr.reshape(1,nx,ny,channels) \n",
    "img_arr.shape  \n",
    "img_arrr = tf.cast(img_arr, tf.float32)\n",
    "inc_pr = regression.predict(img_arrr) \n",
    "inc_pc = classify.predict(img_arrr) \n",
    "inc_pc = np.argmax(inc_pc, axis=1) + 51 \n",
    "flag = binary.predict(img_arrr) \n",
    "\n",
    "print(np.round(inc_pr[0][0]), inc_pc[0], flag[0])"
   ]
  }
 ],
 "metadata": {
  "kernelspec": {
   "display_name": "Python 2",
   "language": "python",
   "name": "python2"
  },
  "language_info": {
   "codemirror_mode": {
    "name": "ipython",
    "version": 2
   },
   "file_extension": ".py",
   "mimetype": "text/x-python",
   "name": "python",
   "nbconvert_exporter": "python",
   "pygments_lexer": "ipython2",
   "version": "2.7.15"
  }
 },
 "nbformat": 4,
 "nbformat_minor": 2
}
