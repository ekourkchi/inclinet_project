{
 "cells": [
  {
   "cell_type": "code",
   "execution_count": 1,
   "metadata": {},
   "outputs": [],
   "source": [
    "import sys\n",
    "import os\n",
    "import subprocess\n",
    "from math import *\n",
    "import numpy as np\n",
    "from datetime import *\n",
    "from pylab import *\n",
    "import matplotlib as mpl\n",
    "from matplotlib.widgets import Slider, Button, RadioButtons\n",
    "import matplotlib.pyplot as plt\n",
    "from astropy.table import Table, Column \n",
    "from mpl_toolkits.axes_grid1 import make_axes_locatable\n",
    "from optparse import OptionParser\n",
    "from PIL import Image#, ImageTk\n",
    "from subprocess import Popen, PIPE\n",
    "import matplotlib.patches as patches\n",
    "import scipy.misc as scimisc\n",
    "import pandas as pd"
   ]
  },
  {
   "cell_type": "code",
   "execution_count": 2,
   "metadata": {},
   "outputs": [],
   "source": [
    "def p_append(params, email, p):\n",
    "    \n",
    "    n = 0\n",
    "    if email=='rbtully1@gmail.com': n = 4\n",
    "    elif email=='rtully@hawaii.edu': n = 4\n",
    "    elif email=='ekourkchi@gmail.com': n = 3\n",
    "    elif email=='s.eftekharzadeh@gmail.com':\n",
    "        n=3\n",
    "    elif email=='mokelkea@hawaii.edu': n = 3\n",
    "    elif email=='chasemu@hawaii.edu': n = 3\n",
    "    elif email=='jrl2014@hawaii.edu': \n",
    "        n=2\n",
    "    elif email=='dschoen@hawaii.edu': n = 3\n",
    "    elif email=='adholtha@hawaii.edu': n = 4\n",
    "    elif email=='chuangj@hawaii.edu': n = 2\n",
    "    elif email=='mi24@hawaii.edu': n = 3\n",
    "    elif email=='mka7@hawaii.edu': n = 2\n",
    "    elif email=='a.danesh61@gmail.com': n = 2\n",
    "    \n",
    "    elif email=='cgrubner0@gmail.com': n = 1\n",
    "    elif email=='pascal.jouve@free.fr': n = 2\n",
    "    elif email=='dlsaintsorny@gmail.com': n = 2\n",
    "    elif email=='arnaud.ohet@gmail.com': n = 1\n",
    "    elif email=='hawaii@udrea.fr': n = 2\n",
    "    elif email=='helenecourtois33@gmail.com': n = 2\n",
    "    elif email=='claude.rene21@gmail.com': n = 1\n",
    "    elif email=='fredwallet@gmail.com': n = 1\n",
    "    elif email=='henri140860@wanadoo.fr': n = 1\n",
    "    elif email=='joannin.lycee@free.fr': n = 2\n",
    "    elif email=='bevig434@gmail.com': n = 1\n",
    "    elif email=='pierrefcevey@gmail.com': n = 1\n",
    "    elif email=='pierre@macweber.ch': n = 1\n",
    "    elif email=='arnaudoech@gmail.com': n = 1\n",
    "    elif email=='lionmarm@gmail.com': n = 1\n",
    "    elif email=='neilljd@gmail.com': n = 3\n",
    "    elif email=='mseibert@carnegiescience.edu': n = 3\n",
    "        \n",
    "    for i in range(n): params.append(p)\n",
    "        \n",
    "    return params  \n",
    "\n",
    "def median_param(param_list, param_email):\n",
    "    \n",
    "    p_lst = []\n",
    "    N = len(param_list)\n",
    "    for i in range(N):\n",
    "        p_lst = p_append(p_lst, param_email[i], param_list[i])\n",
    "    return np.median(p_lst)\n",
    "    \n",
    "    "
   ]
  },
  {
   "cell_type": "code",
   "execution_count": 3,
   "metadata": {},
   "outputs": [
    {
     "name": "stderr",
     "output_type": "stream",
     "text": [
      "/home/ehsan/anaconda2/lib/python2.7/site-packages/ipykernel_launcher.py:2: VisibleDeprecationWarning: Reading unicode strings without specifying the encoding argument is deprecated. Set the encoding, use None for the system default.\n",
      "  \n"
     ]
    }
   ],
   "source": [
    "inFile = 'EDD_distance_cf4_v27.csv'\n",
    "table  = np.genfromtxt(inFile , delimiter='|', filling_values=-1, names=True, dtype=None)\n",
    "pgc  = table['pgc']\n",
    "inc  = table['inc']\n",
    "face_on  = table['fon']\n",
    "inc_note = table['inc_note']\n",
    "inc_flg = table['inc_flg']"
   ]
  },
  {
   "cell_type": "code",
   "execution_count": 4,
   "metadata": {
    "scrolled": true
   },
   "outputs": [
    {
     "name": "stderr",
     "output_type": "stream",
     "text": [
      "/home/ehsan/anaconda2/lib/python2.7/site-packages/ipykernel_launcher.py:2: VisibleDeprecationWarning: Reading unicode strings without specifying the encoding argument is deprecated. Set the encoding, use None for the system default.\n",
      "  \n",
      "/home/ehsan/anaconda2/lib/python2.7/site-packages/ipykernel_launcher.py:8: VisibleDeprecationWarning: Reading unicode strings without specifying the encoding argument is deprecated. Set the encoding, use None for the system default.\n",
      "  \n"
     ]
    }
   ],
   "source": [
    "inFile = 'std_scales.csv'\n",
    "table  = np.genfromtxt(inFile , delimiter=',', filling_values=-1, names=True, dtype=None)\n",
    "pgc_std  = table['pgcID']\n",
    "dPA_std  = table['dPA']\n",
    "zoom_std  = table['zoom']\n",
    "\n",
    "inFile = 'users_scales.csv'\n",
    "table  = np.genfromtxt(inFile , delimiter=',', filling_values=-1, names=True, dtype=None)\n",
    "pgc_user  = table['pgcID']\n",
    "dPA_user  = table['dPA']\n",
    "zoom_user  = table['zoom']\n",
    "email_user  = [' '.join(dummy.split()) for dummy in table['email']]\n"
   ]
  },
  {
   "cell_type": "code",
   "execution_count": 9,
   "metadata": {},
   "outputs": [],
   "source": [
    "######################################\n",
    "def xcmd(cmd,verbose):\n",
    "\n",
    "    if verbose: print '\\n'+cmd\n",
    "\n",
    "    tmp=os.popen(cmd)\n",
    "    output=''\n",
    "    for x in tmp: output+=x\n",
    "    if 'abort' in output:\n",
    "        failure=True\n",
    "    else:\n",
    "        failure=tmp.close()\n",
    "    if False:\n",
    "        print 'execution of %s failed' % cmd\n",
    "        print 'error is as follows',output\n",
    "        sys.exit()\n",
    "    else:\n",
    "        return output\n",
    "\n",
    "######################################\n",
    "\n",
    "def converIMAGE(im_root, pgcID, angle=0., scale=1., size=64, suffix=None):\n",
    "    \n",
    "    if scale<1.:\n",
    "        scale=1\n",
    "\n",
    "    img = Image.open(im_root + 'pgc'+str(pgcID)+'_d25x2_rot_gri.sdss.jpg')\n",
    "\n",
    "    img_rot = scimisc.imrotate(img, -angle, interp='bilinear')\n",
    "\n",
    "    img_rot = np.asarray(img_rot)\n",
    "\n",
    "    N = img_rot.shape\n",
    "    d = N[0]\n",
    "    p =  int(d/scale)\n",
    "    d1 = d/2-p/2\n",
    "    d2 = d1 + p\n",
    "\n",
    "    img_cut = img_rot[d1:d2, d1:d2, :]\n",
    "\n",
    "    img = Image.fromarray(img_cut, 'RGB').resize((size,size))\n",
    "\n",
    "    outDIR = './' + str(size)+'x'+str(size) + ''\n",
    "    if not os.path.exists(outDIR):\n",
    "        xcmd('mkdir '+outDIR, True)\n",
    "    \n",
    "    if not suffix is None:\n",
    "        outName = outDIR+'/pgc'+str(pgcID)+'_'+str(size)+'x'+str(size)+'_'+suffix+'.jpg'\n",
    "    else:\n",
    "        outName = outDIR+'/pgc'+str(pgcID)+'_'+str(size)+'x'+str(size)+'.jpg'\n",
    "\n",
    "    img.save(outName, \"JPEG\")\n",
    "    \n",
    "    return img"
   ]
  },
  {
   "cell_type": "code",
   "execution_count": 6,
   "metadata": {},
   "outputs": [],
   "source": [
    "# im_path =  '../galaxies/'+'pgc3957878_d25x2_rot_gri.sdss.jpg'\n",
    "# im = converIMAGE('../galaxies/', 3957878, angle=0, scale=0.5, size=64)\n",
    "\n",
    "\n",
    "\n",
    "# plt.imshow(im)\n",
    "\n",
    "# id = 3957878\n",
    "# dPA = 0\n",
    "# zoom = 1.0\n",
    "# if id in pgc_std:\n",
    "#     ix,  = np.where(pgc_std==id)\n",
    "#     dPA  = dPA_std[ix][0]\n",
    "#     zoom = zoom_std[ix][0]\n",
    "# elif id in pgc_user:\n",
    "#     ix,  = np.where(pgc_user==id)\n",
    "#     emails = [email_user[i] for i in ix]\n",
    "#     dPA  = median_param(dPA_user[ix], emails)\n",
    "#     zoom = median_param(zoom_user[ix],emails)\n",
    "\n",
    "# print dPA, zoom"
   ]
  },
  {
   "cell_type": "code",
   "execution_count": 8,
   "metadata": {},
   "outputs": [
    {
     "name": "stderr",
     "output_type": "stream",
     "text": [
      "/home/ehsan/anaconda2/lib/python2.7/site-packages/ipykernel_launcher.py:29: DeprecationWarning: `imrotate` is deprecated!\n",
      "`imrotate` is deprecated in SciPy 1.0.0, and will be removed in 1.2.0.\n",
      "Use ``skimage.transform.rotate`` instead.\n"
     ]
    },
    {
     "name": "stdout",
     "output_type": "stream",
     "text": [
      "\n",
      "mkdir ./128x128\n",
      "Problem: ../galaxies/pgc3648947_d25x2_rot_gri.sdss.jpg\n",
      "Problem: ../galaxies/pgc5057040_d25x2_rot_gri.sdss.jpg\n",
      "Problem: ../galaxies/pgc5057372_d25x2_rot_gri.sdss.jpg\n",
      "Problem: ../galaxies/pgc5057571_d25x2_rot_gri.sdss.jpg\n",
      "Problem: ../galaxies/pgc5058874_d25x2_rot_gri.sdss.jpg\n",
      "Problem: ../galaxies/pgc5058906_d25x2_rot_gri.sdss.jpg\n",
      "Problem: ../galaxies/pgc5059958_d25x2_rot_gri.sdss.jpg\n",
      "Problem: ../galaxies/pgc5060016_d25x2_rot_gri.sdss.jpg\n"
     ]
    }
   ],
   "source": [
    "im_root = './galaxies/'\n",
    "for j, id in enumerate(pgc):\n",
    "    \n",
    "    im_path =  im_root+'pgc'+str(id)+'_d25x2_rot_gri.sdss.jpg'\n",
    "    \n",
    "    available = os.path.exists(im_path)\n",
    "    \n",
    "    fon = \" \".join(face_on[j].split())\n",
    "    if ((fon == 'F' and inc_flg[j]>0) or (inc_flg[j]>0 and 'face_on' in inc_note[j])):\n",
    "        suffix = 'F'\n",
    "    elif inc_flg[j]>0:\n",
    "        suffix = '0'\n",
    "    else:\n",
    "        suffix = \"%d\"%inc[j]\n",
    "    \n",
    "    \n",
    "    if available:\n",
    "        \n",
    "        dPA = 0\n",
    "        zoom = 1.0\n",
    "        if id in pgc_std:\n",
    "            ix,  = np.where(pgc_std==id)\n",
    "            dPA  = dPA_std[ix][0]\n",
    "            zoom = zoom_std[ix][0]\n",
    "        elif id in pgc_user:\n",
    "            ix,  = np.where(pgc_user==id)\n",
    "            emails = [email_user[i] for i in ix]\n",
    "            dPA  = median_param(dPA_user[ix], emails)\n",
    "            zoom = median_param(zoom_user[ix],emails)\n",
    "        try: \n",
    "            converIMAGE(im_root, id, angle=dPA, scale=zoom, size=128, suffix=suffix)\n",
    "        except:\n",
    "            print 'Problem: ' + im_path"
   ]
  },
  {
   "cell_type": "code",
   "execution_count": null,
   "metadata": {},
   "outputs": [],
   "source": []
  },
  {
   "cell_type": "code",
   "execution_count": null,
   "metadata": {},
   "outputs": [],
   "source": []
  }
 ],
 "metadata": {
  "kernelspec": {
   "display_name": "Python 3",
   "language": "python",
   "name": "python3"
  },
  "language_info": {
   "codemirror_mode": {
    "name": "ipython",
    "version": 3
   },
   "file_extension": ".py",
   "mimetype": "text/x-python",
   "name": "python",
   "nbconvert_exporter": "python",
   "pygments_lexer": "ipython3",
   "version": "3.8.5"
  }
 },
 "nbformat": 4,
 "nbformat_minor": 2
}
